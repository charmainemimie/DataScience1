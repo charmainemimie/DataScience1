{
 "cells": [
  {
   "cell_type": "code",
   "execution_count": 2,
   "id": "87cda33d",
   "metadata": {},
   "outputs": [],
   "source": [
    "import pandas as pd\n",
    "import numpy as np\n",
    "import matplotlib.pyplot as plt"
   ]
  },
  {
   "cell_type": "code",
   "execution_count": 3,
   "id": "38cdd4ca",
   "metadata": {},
   "outputs": [],
   "source": [
    "data = {'year': [\n",
    "2010 , 2011 , 2012 ,\n",
    "2010 , 2011 , 2012 ,\n",
    "2010 , 2011 , 2012\n",
    "],\n",
    "'team': [\n",
    "'FCBarcelona', 'FCBarcelona',\n",
    "'FCBarcelona', 'RMa drid',\n",
    "'RMadrid', 'RMadrid',\n",
    "'ValenciaCF', 'ValenciaCF',\n",
    "'ValenciaCF'\n",
    "],\n",
    "'wins': [30 , 28, 32, 29, 32, 26, 21, 17, 19] ,\n",
    "'draws': [6 , 7, 4, 5, 4, 7, 8, 10 , 8] ,\n",
    "'losses': [2 , 3, 2, 4, 2, 5, 9, 11 , 11]\n",
    "}\n"
   ]
  },
  {
   "cell_type": "code",
   "execution_count": 4,
   "id": "149ab4e8",
   "metadata": {},
   "outputs": [],
   "source": [
    "football = pd.DataFrame(data, columns = [\n",
    "'year', 'team', 'wins', 'draws', 'losses'\n",
    "]\n",
    ")"
   ]
  },
  {
   "cell_type": "code",
   "execution_count": 7,
   "id": "5306c96d",
   "metadata": {},
   "outputs": [
    {
     "name": "stdout",
     "output_type": "stream",
     "text": [
      "   year         team  wins  draws  losses\n",
      "0  2010  FCBarcelona    30      6       2\n",
      "1  2011  FCBarcelona    28      7       3\n",
      "2  2012  FCBarcelona    32      4       2\n",
      "3  2010     RMa drid    29      5       4\n",
      "4  2011      RMadrid    32      4       2\n",
      "5  2012      RMadrid    26      7       5\n",
      "6  2010   ValenciaCF    21      8       9\n",
      "7  2011   ValenciaCF    17     10      11\n",
      "8  2012   ValenciaCF    19      8      11\n"
     ]
    }
   ],
   "source": [
    "print(football)"
   ]
  },
  {
   "cell_type": "code",
   "execution_count": 8,
   "id": "a5e42ad8",
   "metadata": {},
   "outputs": [],
   "source": [
    "#OPEN GOVERNMENT DATA ANALYSIS"
   ]
  },
  {
   "cell_type": "code",
   "execution_count": 1,
   "id": "3ce41432",
   "metadata": {},
   "outputs": [
    {
     "ename": "NameError",
     "evalue": "name 'pd' is not defined",
     "output_type": "error",
     "traceback": [
      "\u001b[1;31m---------------------------------------------------------------------------\u001b[0m",
      "\u001b[1;31mNameError\u001b[0m                                 Traceback (most recent call last)",
      "\u001b[1;32m~\\AppData\\Local\\Temp\\ipykernel_1472\\2585941385.py\u001b[0m in \u001b[0;36m<module>\u001b[1;34m\u001b[0m\n\u001b[1;32m----> 1\u001b[1;33m edu = pd.read_csv ('files/ch02/educ_figdp_1_Data.csv',\n\u001b[0m\u001b[0;32m      2\u001b[0m \u001b[0mna_values\u001b[0m \u001b[1;33m=\u001b[0m \u001b[1;34m':'\u001b[0m\u001b[1;33m,\u001b[0m\u001b[1;33m\u001b[0m\u001b[1;33m\u001b[0m\u001b[0m\n\u001b[0;32m      3\u001b[0m usecols = [\" TIME \" ,\" GEO \" ,\" Value \" ])\n",
      "\u001b[1;31mNameError\u001b[0m: name 'pd' is not defined"
     ]
    }
   ],
   "source": [
    "edu = pd.read_csv ('files/ch02/educ_figdp_1_Data.csv',\n",
    "na_values = ':',\n",
    "usecols = [\" TIME \" ,\" GEO \" ,\" Value \" ])\n"
   ]
  },
  {
   "cell_type": "code",
   "execution_count": null,
   "id": "3dfbc2b9",
   "metadata": {},
   "outputs": [],
   "source": []
  }
 ],
 "metadata": {
  "kernelspec": {
   "display_name": "Python 3 (ipykernel)",
   "language": "python",
   "name": "python3"
  },
  "language_info": {
   "codemirror_mode": {
    "name": "ipython",
    "version": 3
   },
   "file_extension": ".py",
   "mimetype": "text/x-python",
   "name": "python",
   "nbconvert_exporter": "python",
   "pygments_lexer": "ipython3",
   "version": "3.9.13"
  }
 },
 "nbformat": 4,
 "nbformat_minor": 5
}
